{
  "nbformat": 4,
  "nbformat_minor": 0,
  "metadata": {
    "colab": {
      "name": "NLP on songs.ipynb",
      "provenance": [],
      "authorship_tag": "ABX9TyPKhbXCrT7ONFCIY1Ne1L1M",
      "include_colab_link": true
    },
    "kernelspec": {
      "name": "python3",
      "display_name": "Python 3"
    }
  },
  "cells": [
    {
      "cell_type": "markdown",
      "metadata": {
        "id": "view-in-github",
        "colab_type": "text"
      },
      "source": [
        "<a href=\"https://colab.research.google.com/github/rishik-00/Natural-Language-Processing/blob/master/NLP_on_songs.ipynb\" target=\"_parent\"><img src=\"https://colab.research.google.com/assets/colab-badge.svg\" alt=\"Open In Colab\"/></a>"
      ]
    },
    {
      "cell_type": "code",
      "metadata": {
        "id": "tvI4df1CLW1p",
        "colab_type": "code",
        "colab": {}
      },
      "source": [
        "import  tensorflow as  tf\n",
        "from tensorflow.keras.preprocessing.text import  Tokenizer\n",
        "from tensorflow.keras.preprocessing.sequence import pad_sequences\n",
        "import numpy as np"
      ],
      "execution_count": 0,
      "outputs": []
    },
    {
      "cell_type": "code",
      "metadata": {
        "id": "TiNL8Ehwv7gN",
        "colab_type": "code",
        "colab": {}
      },
      "source": [
        "data = open('/songs.txt').read()\n",
        "data = data.lower().split('\\n')"
      ],
      "execution_count": 0,
      "outputs": []
    },
    {
      "cell_type": "code",
      "metadata": {
        "id": "ultHMWS9wj1g",
        "colab_type": "code",
        "colab": {}
      },
      "source": [
        "tokenizer = Tokenizer()"
      ],
      "execution_count": 0,
      "outputs": []
    },
    {
      "cell_type": "code",
      "metadata": {
        "id": "25VSo46Wwl7Q",
        "colab_type": "code",
        "colab": {
          "base_uri": "https://localhost:8080/",
          "height": 34
        },
        "outputId": "7ed33bf2-606c-43c3-feb8-962955258059"
      },
      "source": [
        "tokenizer.fit_on_texts(data)\n",
        "total_words = len(tokenizer.word_index)+ 1\n",
        "total_words"
      ],
      "execution_count": 107,
      "outputs": [
        {
          "output_type": "execute_result",
          "data": {
            "text/plain": [
              "283"
            ]
          },
          "metadata": {
            "tags": []
          },
          "execution_count": 107
        }
      ]
    },
    {
      "cell_type": "code",
      "metadata": {
        "id": "6FsvzctLxCXr",
        "colab_type": "code",
        "colab": {}
      },
      "source": [
        "input_sequences = []\n",
        "for line in data:\n",
        "  token_list = tokenizer.texts_to_sequences([line])[0] # this [line] is used to do word by word, and [0] isto get rid of the  nested list\n",
        "  for i in range(1, len(token_list)):\n",
        "    sequence = token_list[:i+1]\n",
        "    input_sequences.append(sequence)\n",
        "\n",
        "# pad sequences\n",
        "max_len = max(len(x) for x in input_sequences)\n",
        "input_sequences = pad_sequences(input_sequences, maxlen = max_len, padding = 'pre')"
      ],
      "execution_count": 0,
      "outputs": []
    },
    {
      "cell_type": "code",
      "metadata": {
        "id": "puCKn70Vzefi",
        "colab_type": "code",
        "colab": {
          "base_uri": "https://localhost:8080/",
          "height": 136
        },
        "outputId": "a683e2bb-7fd1-4dde-a20b-c3e6c87036d4"
      },
      "source": [
        "input_sequences\n"
      ],
      "execution_count": 109,
      "outputs": [
        {
          "output_type": "execute_result",
          "data": {
            "text/plain": [
              "array([[  0,   0,   0, ...,   0,   4,  51],\n",
              "       [  0,   0,   0, ...,   4,  51,  17],\n",
              "       [  0,   0,   0, ...,  51,  17,   7],\n",
              "       ...,\n",
              "       [  0,   0,   0, ...,  14,  99, 282],\n",
              "       [  0,   0,   0, ...,  99, 282,  31],\n",
              "       [  0,   0,   0, ..., 282,  31,   1]], dtype=int32)"
            ]
          },
          "metadata": {
            "tags": []
          },
          "execution_count": 109
        }
      ]
    },
    {
      "cell_type": "code",
      "metadata": {
        "id": "WQ1zRFOe1z1M",
        "colab_type": "code",
        "colab": {}
      },
      "source": [
        "xs = input_sequences[:,:-1]\n",
        "label = input_sequences[:, -1]\n"
      ],
      "execution_count": 0,
      "outputs": []
    },
    {
      "cell_type": "code",
      "metadata": {
        "id": "6TIF_1-o24fF",
        "colab_type": "code",
        "colab": {}
      },
      "source": [
        "y_train = tf.keras.utils.to_categorical(label, num_classes = total_words)"
      ],
      "execution_count": 0,
      "outputs": []
    },
    {
      "cell_type": "code",
      "metadata": {
        "id": "NkLGsbTq3fGV",
        "colab_type": "code",
        "colab": {
          "base_uri": "https://localhost:8080/",
          "height": 1000
        },
        "outputId": "425553d4-fb6c-45ce-bd7e-5e8025a6f460"
      },
      "source": [
        "model = tf.keras.Sequential()\n",
        "model.add(tf.keras.layers.Embedding(total_words, 64, input_length = max_len-1))\n",
        "model.add(tf.keras.layers.Bidirectional(tf.keras.layers.LSTM(20)))\n",
        "model.add(tf.keras.layers.Dense(total_words, activation = 'softmax'))\n",
        "model.compile(loss = 'categorical_crossentropy', metrics = ['accuracy'] ,optimizer = 'adam')\n",
        "history = model.fit(xs, y_train, epochs = 200, verbose = 1)"
      ],
      "execution_count": 112,
      "outputs": [
        {
          "output_type": "stream",
          "text": [
            "Epoch 1/200\n",
            "32/32 [==============================] - 0s 10ms/step - loss: 5.6094 - accuracy: 0.0479\n",
            "Epoch 2/200\n",
            "32/32 [==============================] - 0s 10ms/step - loss: 5.1738 - accuracy: 0.0429\n",
            "Epoch 3/200\n",
            "32/32 [==============================] - 0s 10ms/step - loss: 4.8305 - accuracy: 0.0449\n",
            "Epoch 4/200\n",
            "32/32 [==============================] - 0s 10ms/step - loss: 4.7689 - accuracy: 0.0509\n",
            "Epoch 5/200\n",
            "32/32 [==============================] - 0s 11ms/step - loss: 4.7198 - accuracy: 0.0689\n",
            "Epoch 6/200\n",
            "32/32 [==============================] - 0s 9ms/step - loss: 4.6616 - accuracy: 0.0888\n",
            "Epoch 7/200\n",
            "32/32 [==============================] - 0s 10ms/step - loss: 4.5984 - accuracy: 0.0758\n",
            "Epoch 8/200\n",
            "32/32 [==============================] - 0s 9ms/step - loss: 4.5190 - accuracy: 0.0938\n",
            "Epoch 9/200\n",
            "32/32 [==============================] - 0s 10ms/step - loss: 4.4215 - accuracy: 0.1078\n",
            "Epoch 10/200\n",
            "32/32 [==============================] - 0s 9ms/step - loss: 4.3173 - accuracy: 0.1228\n",
            "Epoch 11/200\n",
            "32/32 [==============================] - 0s 9ms/step - loss: 4.2211 - accuracy: 0.1198\n",
            "Epoch 12/200\n",
            "32/32 [==============================] - 0s 9ms/step - loss: 4.1205 - accuracy: 0.1417\n",
            "Epoch 13/200\n",
            "32/32 [==============================] - 0s 9ms/step - loss: 4.0211 - accuracy: 0.1487\n",
            "Epoch 14/200\n",
            "32/32 [==============================] - 0s 10ms/step - loss: 3.9347 - accuracy: 0.1557\n",
            "Epoch 15/200\n",
            "32/32 [==============================] - 0s 11ms/step - loss: 3.8516 - accuracy: 0.1657\n",
            "Epoch 16/200\n",
            "32/32 [==============================] - 0s 10ms/step - loss: 3.7646 - accuracy: 0.1756\n",
            "Epoch 17/200\n",
            "32/32 [==============================] - 0s 11ms/step - loss: 3.6857 - accuracy: 0.2066\n",
            "Epoch 18/200\n",
            "32/32 [==============================] - 0s 10ms/step - loss: 3.6043 - accuracy: 0.2206\n",
            "Epoch 19/200\n",
            "32/32 [==============================] - 0s 10ms/step - loss: 3.5283 - accuracy: 0.2485\n",
            "Epoch 20/200\n",
            "32/32 [==============================] - 0s 11ms/step - loss: 3.4515 - accuracy: 0.2615\n",
            "Epoch 21/200\n",
            "32/32 [==============================] - 0s 10ms/step - loss: 3.3843 - accuracy: 0.2764\n",
            "Epoch 22/200\n",
            "32/32 [==============================] - 0s 10ms/step - loss: 3.3103 - accuracy: 0.3094\n",
            "Epoch 23/200\n",
            "32/32 [==============================] - 0s 11ms/step - loss: 3.2393 - accuracy: 0.3034\n",
            "Epoch 24/200\n",
            "32/32 [==============================] - 0s 10ms/step - loss: 3.1697 - accuracy: 0.3273\n",
            "Epoch 25/200\n",
            "32/32 [==============================] - 0s 10ms/step - loss: 3.0930 - accuracy: 0.3493\n",
            "Epoch 26/200\n",
            "32/32 [==============================] - 0s 10ms/step - loss: 3.0350 - accuracy: 0.3723\n",
            "Epoch 27/200\n",
            "32/32 [==============================] - 0s 10ms/step - loss: 2.9881 - accuracy: 0.3693\n",
            "Epoch 28/200\n",
            "32/32 [==============================] - 0s 12ms/step - loss: 2.9071 - accuracy: 0.3892\n",
            "Epoch 29/200\n",
            "32/32 [==============================] - 0s 10ms/step - loss: 2.8345 - accuracy: 0.4291\n",
            "Epoch 30/200\n",
            "32/32 [==============================] - 0s 11ms/step - loss: 2.7813 - accuracy: 0.4232\n",
            "Epoch 31/200\n",
            "32/32 [==============================] - 0s 10ms/step - loss: 2.7221 - accuracy: 0.4162\n",
            "Epoch 32/200\n",
            "32/32 [==============================] - 0s 10ms/step - loss: 2.6582 - accuracy: 0.4451\n",
            "Epoch 33/200\n",
            "32/32 [==============================] - 0s 9ms/step - loss: 2.5958 - accuracy: 0.4760\n",
            "Epoch 34/200\n",
            "32/32 [==============================] - 0s 10ms/step - loss: 2.5415 - accuracy: 0.4860\n",
            "Epoch 35/200\n",
            "32/32 [==============================] - 0s 10ms/step - loss: 2.4952 - accuracy: 0.4840\n",
            "Epoch 36/200\n",
            "32/32 [==============================] - 0s 10ms/step - loss: 2.4461 - accuracy: 0.5030\n",
            "Epoch 37/200\n",
            "32/32 [==============================] - 0s 10ms/step - loss: 2.3982 - accuracy: 0.5230\n",
            "Epoch 38/200\n",
            "32/32 [==============================] - 0s 9ms/step - loss: 2.3529 - accuracy: 0.5250\n",
            "Epoch 39/200\n",
            "32/32 [==============================] - 0s 10ms/step - loss: 2.3131 - accuracy: 0.5379\n",
            "Epoch 40/200\n",
            "32/32 [==============================] - 0s 10ms/step - loss: 2.2750 - accuracy: 0.5319\n",
            "Epoch 41/200\n",
            "32/32 [==============================] - 0s 10ms/step - loss: 2.2217 - accuracy: 0.5589\n",
            "Epoch 42/200\n",
            "32/32 [==============================] - 0s 10ms/step - loss: 2.1851 - accuracy: 0.5569\n",
            "Epoch 43/200\n",
            "32/32 [==============================] - 0s 10ms/step - loss: 2.1593 - accuracy: 0.5669\n",
            "Epoch 44/200\n",
            "32/32 [==============================] - 0s 10ms/step - loss: 2.1056 - accuracy: 0.5699\n",
            "Epoch 45/200\n",
            "32/32 [==============================] - 0s 11ms/step - loss: 2.0738 - accuracy: 0.5858\n",
            "Epoch 46/200\n",
            "32/32 [==============================] - 0s 12ms/step - loss: 2.0301 - accuracy: 0.5848\n",
            "Epoch 47/200\n",
            "32/32 [==============================] - 0s 10ms/step - loss: 1.9848 - accuracy: 0.6008\n",
            "Epoch 48/200\n",
            "32/32 [==============================] - 0s 9ms/step - loss: 1.9393 - accuracy: 0.6138\n",
            "Epoch 49/200\n",
            "32/32 [==============================] - 0s 10ms/step - loss: 1.9206 - accuracy: 0.6098\n",
            "Epoch 50/200\n",
            "32/32 [==============================] - 0s 10ms/step - loss: 1.9450 - accuracy: 0.6008\n",
            "Epoch 51/200\n",
            "32/32 [==============================] - 0s 10ms/step - loss: 1.9006 - accuracy: 0.6058\n",
            "Epoch 52/200\n",
            "32/32 [==============================] - 0s 10ms/step - loss: 1.8672 - accuracy: 0.6098\n",
            "Epoch 53/200\n",
            "32/32 [==============================] - 0s 9ms/step - loss: 1.8886 - accuracy: 0.6038\n",
            "Epoch 54/200\n",
            "32/32 [==============================] - 0s 10ms/step - loss: 1.8125 - accuracy: 0.6257\n",
            "Epoch 55/200\n",
            "32/32 [==============================] - 0s 9ms/step - loss: 1.7731 - accuracy: 0.6257\n",
            "Epoch 56/200\n",
            "32/32 [==============================] - 0s 10ms/step - loss: 1.7216 - accuracy: 0.6467\n",
            "Epoch 57/200\n",
            "32/32 [==============================] - 0s 9ms/step - loss: 1.6846 - accuracy: 0.6597\n",
            "Epoch 58/200\n",
            "32/32 [==============================] - 0s 10ms/step - loss: 1.6461 - accuracy: 0.6677\n",
            "Epoch 59/200\n",
            "32/32 [==============================] - 0s 10ms/step - loss: 1.6169 - accuracy: 0.6786\n",
            "Epoch 60/200\n",
            "32/32 [==============================] - 0s 10ms/step - loss: 1.5960 - accuracy: 0.6786\n",
            "Epoch 61/200\n",
            "32/32 [==============================] - 0s 10ms/step - loss: 1.5845 - accuracy: 0.6756\n",
            "Epoch 62/200\n",
            "32/32 [==============================] - 0s 10ms/step - loss: 1.5473 - accuracy: 0.6886\n",
            "Epoch 63/200\n",
            "32/32 [==============================] - 0s 10ms/step - loss: 1.5274 - accuracy: 0.6876\n",
            "Epoch 64/200\n",
            "32/32 [==============================] - 0s 10ms/step - loss: 1.5030 - accuracy: 0.6996\n",
            "Epoch 65/200\n",
            "32/32 [==============================] - 0s 10ms/step - loss: 1.4885 - accuracy: 0.6976\n",
            "Epoch 66/200\n",
            "32/32 [==============================] - 0s 10ms/step - loss: 1.4631 - accuracy: 0.6956\n",
            "Epoch 67/200\n",
            "32/32 [==============================] - 0s 9ms/step - loss: 1.4444 - accuracy: 0.6986\n",
            "Epoch 68/200\n",
            "32/32 [==============================] - 0s 10ms/step - loss: 1.4680 - accuracy: 0.6926\n",
            "Epoch 69/200\n",
            "32/32 [==============================] - 0s 9ms/step - loss: 1.4502 - accuracy: 0.6966\n",
            "Epoch 70/200\n",
            "32/32 [==============================] - 0s 10ms/step - loss: 1.4017 - accuracy: 0.7106\n",
            "Epoch 71/200\n",
            "32/32 [==============================] - 0s 10ms/step - loss: 1.3632 - accuracy: 0.7216\n",
            "Epoch 72/200\n",
            "32/32 [==============================] - 0s 9ms/step - loss: 1.3772 - accuracy: 0.7335\n",
            "Epoch 73/200\n",
            "32/32 [==============================] - 0s 9ms/step - loss: 1.3469 - accuracy: 0.7255\n",
            "Epoch 74/200\n",
            "32/32 [==============================] - 0s 10ms/step - loss: 1.3040 - accuracy: 0.7385\n",
            "Epoch 75/200\n",
            "32/32 [==============================] - 0s 10ms/step - loss: 1.2690 - accuracy: 0.7505\n",
            "Epoch 76/200\n",
            "32/32 [==============================] - 0s 10ms/step - loss: 1.2499 - accuracy: 0.7565\n",
            "Epoch 77/200\n",
            "32/32 [==============================] - 0s 10ms/step - loss: 1.2260 - accuracy: 0.7645\n",
            "Epoch 78/200\n",
            "32/32 [==============================] - 0s 10ms/step - loss: 1.2056 - accuracy: 0.7685\n",
            "Epoch 79/200\n",
            "32/32 [==============================] - 0s 10ms/step - loss: 1.1880 - accuracy: 0.7715\n",
            "Epoch 80/200\n",
            "32/32 [==============================] - 0s 10ms/step - loss: 1.1668 - accuracy: 0.7725\n",
            "Epoch 81/200\n",
            "32/32 [==============================] - 0s 10ms/step - loss: 1.1545 - accuracy: 0.7864\n",
            "Epoch 82/200\n",
            "32/32 [==============================] - 0s 9ms/step - loss: 1.1409 - accuracy: 0.7814\n",
            "Epoch 83/200\n",
            "32/32 [==============================] - 0s 10ms/step - loss: 1.1346 - accuracy: 0.7784\n",
            "Epoch 84/200\n",
            "32/32 [==============================] - 0s 10ms/step - loss: 1.1185 - accuracy: 0.7884\n",
            "Epoch 85/200\n",
            "32/32 [==============================] - 0s 10ms/step - loss: 1.1042 - accuracy: 0.7854\n",
            "Epoch 86/200\n",
            "32/32 [==============================] - 0s 9ms/step - loss: 1.1312 - accuracy: 0.7834\n",
            "Epoch 87/200\n",
            "32/32 [==============================] - 0s 11ms/step - loss: 1.1247 - accuracy: 0.7764\n",
            "Epoch 88/200\n",
            "32/32 [==============================] - 0s 10ms/step - loss: 1.1102 - accuracy: 0.7784\n",
            "Epoch 89/200\n",
            "32/32 [==============================] - 0s 9ms/step - loss: 1.0708 - accuracy: 0.7974\n",
            "Epoch 90/200\n",
            "32/32 [==============================] - 0s 10ms/step - loss: 1.0580 - accuracy: 0.8004\n",
            "Epoch 91/200\n",
            "32/32 [==============================] - 0s 9ms/step - loss: 1.0540 - accuracy: 0.8064\n",
            "Epoch 92/200\n",
            "32/32 [==============================] - 0s 10ms/step - loss: 1.0229 - accuracy: 0.8054\n",
            "Epoch 93/200\n",
            "32/32 [==============================] - 0s 10ms/step - loss: 1.0089 - accuracy: 0.8074\n",
            "Epoch 94/200\n",
            "32/32 [==============================] - 0s 10ms/step - loss: 0.9866 - accuracy: 0.8194\n",
            "Epoch 95/200\n",
            "32/32 [==============================] - 0s 10ms/step - loss: 0.9657 - accuracy: 0.8273\n",
            "Epoch 96/200\n",
            "32/32 [==============================] - 0s 10ms/step - loss: 0.9551 - accuracy: 0.8224\n",
            "Epoch 97/200\n",
            "32/32 [==============================] - 0s 10ms/step - loss: 0.9335 - accuracy: 0.8303\n",
            "Epoch 98/200\n",
            "32/32 [==============================] - 0s 10ms/step - loss: 0.9331 - accuracy: 0.8333\n",
            "Epoch 99/200\n",
            "32/32 [==============================] - 0s 10ms/step - loss: 0.9161 - accuracy: 0.8363\n",
            "Epoch 100/200\n",
            "32/32 [==============================] - 0s 10ms/step - loss: 0.9067 - accuracy: 0.8383\n",
            "Epoch 101/200\n",
            "32/32 [==============================] - 0s 9ms/step - loss: 0.8890 - accuracy: 0.8403\n",
            "Epoch 102/200\n",
            "32/32 [==============================] - 0s 10ms/step - loss: 0.8723 - accuracy: 0.8483\n",
            "Epoch 103/200\n",
            "32/32 [==============================] - 0s 10ms/step - loss: 0.8569 - accuracy: 0.8563\n",
            "Epoch 104/200\n",
            "32/32 [==============================] - 0s 11ms/step - loss: 0.8397 - accuracy: 0.8573\n",
            "Epoch 105/200\n",
            "32/32 [==============================] - 0s 10ms/step - loss: 0.8290 - accuracy: 0.8583\n",
            "Epoch 106/200\n",
            "32/32 [==============================] - 0s 9ms/step - loss: 0.8475 - accuracy: 0.8543\n",
            "Epoch 107/200\n",
            "32/32 [==============================] - 0s 10ms/step - loss: 0.8265 - accuracy: 0.8603\n",
            "Epoch 108/200\n",
            "32/32 [==============================] - 0s 10ms/step - loss: 0.8086 - accuracy: 0.8653\n",
            "Epoch 109/200\n",
            "32/32 [==============================] - 0s 10ms/step - loss: 0.7861 - accuracy: 0.8683\n",
            "Epoch 110/200\n",
            "32/32 [==============================] - 0s 10ms/step - loss: 0.7768 - accuracy: 0.8733\n",
            "Epoch 111/200\n",
            "32/32 [==============================] - 0s 11ms/step - loss: 0.7700 - accuracy: 0.8703\n",
            "Epoch 112/200\n",
            "32/32 [==============================] - 0s 10ms/step - loss: 0.7613 - accuracy: 0.8683\n",
            "Epoch 113/200\n",
            "32/32 [==============================] - 0s 10ms/step - loss: 0.7475 - accuracy: 0.8703\n",
            "Epoch 114/200\n",
            "32/32 [==============================] - 0s 10ms/step - loss: 0.7465 - accuracy: 0.8743\n",
            "Epoch 115/200\n",
            "32/32 [==============================] - 0s 9ms/step - loss: 0.7330 - accuracy: 0.8752\n",
            "Epoch 116/200\n",
            "32/32 [==============================] - 0s 11ms/step - loss: 0.7346 - accuracy: 0.8762\n",
            "Epoch 117/200\n",
            "32/32 [==============================] - 0s 10ms/step - loss: 0.7174 - accuracy: 0.8733\n",
            "Epoch 118/200\n",
            "32/32 [==============================] - 0s 10ms/step - loss: 0.7053 - accuracy: 0.8792\n",
            "Epoch 119/200\n",
            "32/32 [==============================] - 0s 10ms/step - loss: 0.6947 - accuracy: 0.8802\n",
            "Epoch 120/200\n",
            "32/32 [==============================] - 0s 10ms/step - loss: 0.6879 - accuracy: 0.8862\n",
            "Epoch 121/200\n",
            "32/32 [==============================] - 0s 9ms/step - loss: 0.6715 - accuracy: 0.8832\n",
            "Epoch 122/200\n",
            "32/32 [==============================] - 0s 10ms/step - loss: 0.6617 - accuracy: 0.8862\n",
            "Epoch 123/200\n",
            "32/32 [==============================] - 0s 10ms/step - loss: 0.6861 - accuracy: 0.8782\n",
            "Epoch 124/200\n",
            "32/32 [==============================] - 0s 10ms/step - loss: 0.6708 - accuracy: 0.8812\n",
            "Epoch 125/200\n",
            "32/32 [==============================] - 0s 10ms/step - loss: 0.6662 - accuracy: 0.8872\n",
            "Epoch 126/200\n",
            "32/32 [==============================] - 0s 10ms/step - loss: 0.6483 - accuracy: 0.8852\n",
            "Epoch 127/200\n",
            "32/32 [==============================] - 0s 10ms/step - loss: 0.6459 - accuracy: 0.8832\n",
            "Epoch 128/200\n",
            "32/32 [==============================] - 0s 10ms/step - loss: 0.6258 - accuracy: 0.8872\n",
            "Epoch 129/200\n",
            "32/32 [==============================] - 0s 10ms/step - loss: 0.7050 - accuracy: 0.8663\n",
            "Epoch 130/200\n",
            "32/32 [==============================] - 0s 10ms/step - loss: 0.6753 - accuracy: 0.8743\n",
            "Epoch 131/200\n",
            "32/32 [==============================] - 0s 10ms/step - loss: 0.6743 - accuracy: 0.8743\n",
            "Epoch 132/200\n",
            "32/32 [==============================] - 0s 10ms/step - loss: 0.6560 - accuracy: 0.8713\n",
            "Epoch 133/200\n",
            "32/32 [==============================] - 0s 10ms/step - loss: 0.6357 - accuracy: 0.8822\n",
            "Epoch 134/200\n",
            "32/32 [==============================] - 0s 11ms/step - loss: 0.6018 - accuracy: 0.8902\n",
            "Epoch 135/200\n",
            "32/32 [==============================] - 0s 10ms/step - loss: 0.6047 - accuracy: 0.8882\n",
            "Epoch 136/200\n",
            "32/32 [==============================] - 0s 11ms/step - loss: 0.5984 - accuracy: 0.8882\n",
            "Epoch 137/200\n",
            "32/32 [==============================] - 0s 11ms/step - loss: 0.5754 - accuracy: 0.8932\n",
            "Epoch 138/200\n",
            "32/32 [==============================] - 0s 10ms/step - loss: 0.5640 - accuracy: 0.8922\n",
            "Epoch 139/200\n",
            "32/32 [==============================] - 0s 9ms/step - loss: 0.5687 - accuracy: 0.8922\n",
            "Epoch 140/200\n",
            "32/32 [==============================] - 0s 10ms/step - loss: 0.5755 - accuracy: 0.8922\n",
            "Epoch 141/200\n",
            "32/32 [==============================] - 0s 10ms/step - loss: 0.5754 - accuracy: 0.8902\n",
            "Epoch 142/200\n",
            "32/32 [==============================] - 0s 10ms/step - loss: 0.5832 - accuracy: 0.8822\n",
            "Epoch 143/200\n",
            "32/32 [==============================] - 0s 10ms/step - loss: 0.6318 - accuracy: 0.8723\n",
            "Epoch 144/200\n",
            "32/32 [==============================] - 0s 9ms/step - loss: 0.5773 - accuracy: 0.8912\n",
            "Epoch 145/200\n",
            "32/32 [==============================] - 0s 9ms/step - loss: 0.5666 - accuracy: 0.8822\n",
            "Epoch 146/200\n",
            "32/32 [==============================] - 0s 10ms/step - loss: 0.5368 - accuracy: 0.8952\n",
            "Epoch 147/200\n",
            "32/32 [==============================] - 0s 10ms/step - loss: 0.5203 - accuracy: 0.8982\n",
            "Epoch 148/200\n",
            "32/32 [==============================] - 0s 10ms/step - loss: 0.5170 - accuracy: 0.9002\n",
            "Epoch 149/200\n",
            "32/32 [==============================] - 0s 10ms/step - loss: 0.5005 - accuracy: 0.9002\n",
            "Epoch 150/200\n",
            "32/32 [==============================] - 0s 10ms/step - loss: 0.4945 - accuracy: 0.9022\n",
            "Epoch 151/200\n",
            "32/32 [==============================] - 0s 10ms/step - loss: 0.4855 - accuracy: 0.9042\n",
            "Epoch 152/200\n",
            "32/32 [==============================] - 0s 10ms/step - loss: 0.4895 - accuracy: 0.9032\n",
            "Epoch 153/200\n",
            "32/32 [==============================] - 0s 10ms/step - loss: 0.4815 - accuracy: 0.9082\n",
            "Epoch 154/200\n",
            "32/32 [==============================] - 0s 11ms/step - loss: 0.4707 - accuracy: 0.9102\n",
            "Epoch 155/200\n",
            "32/32 [==============================] - 0s 10ms/step - loss: 0.4671 - accuracy: 0.9092\n",
            "Epoch 156/200\n",
            "32/32 [==============================] - 0s 10ms/step - loss: 0.4785 - accuracy: 0.9062\n",
            "Epoch 157/200\n",
            "32/32 [==============================] - 0s 10ms/step - loss: 0.4716 - accuracy: 0.9062\n",
            "Epoch 158/200\n",
            "32/32 [==============================] - 0s 10ms/step - loss: 0.4563 - accuracy: 0.9082\n",
            "Epoch 159/200\n",
            "32/32 [==============================] - 0s 11ms/step - loss: 0.4480 - accuracy: 0.9132\n",
            "Epoch 160/200\n",
            "32/32 [==============================] - 0s 10ms/step - loss: 0.4415 - accuracy: 0.9132\n",
            "Epoch 161/200\n",
            "32/32 [==============================] - 0s 10ms/step - loss: 0.4366 - accuracy: 0.9182\n",
            "Epoch 162/200\n",
            "32/32 [==============================] - 0s 10ms/step - loss: 0.4316 - accuracy: 0.9162\n",
            "Epoch 163/200\n",
            "32/32 [==============================] - 0s 10ms/step - loss: 0.4234 - accuracy: 0.9162\n",
            "Epoch 164/200\n",
            "32/32 [==============================] - 0s 10ms/step - loss: 0.4209 - accuracy: 0.9202\n",
            "Epoch 165/200\n",
            "32/32 [==============================] - 0s 10ms/step - loss: 0.4182 - accuracy: 0.9162\n",
            "Epoch 166/200\n",
            "32/32 [==============================] - 0s 11ms/step - loss: 0.4120 - accuracy: 0.9212\n",
            "Epoch 167/200\n",
            "32/32 [==============================] - 0s 10ms/step - loss: 0.4080 - accuracy: 0.9162\n",
            "Epoch 168/200\n",
            "32/32 [==============================] - 0s 10ms/step - loss: 0.4039 - accuracy: 0.9222\n",
            "Epoch 169/200\n",
            "32/32 [==============================] - 0s 10ms/step - loss: 0.4011 - accuracy: 0.9232\n",
            "Epoch 170/200\n",
            "32/32 [==============================] - 0s 10ms/step - loss: 0.3959 - accuracy: 0.9212\n",
            "Epoch 171/200\n",
            "32/32 [==============================] - 0s 11ms/step - loss: 0.3916 - accuracy: 0.9242\n",
            "Epoch 172/200\n",
            "32/32 [==============================] - 0s 10ms/step - loss: 0.3867 - accuracy: 0.9271\n",
            "Epoch 173/200\n",
            "32/32 [==============================] - 0s 10ms/step - loss: 0.3839 - accuracy: 0.9251\n",
            "Epoch 174/200\n",
            "32/32 [==============================] - 0s 10ms/step - loss: 0.3791 - accuracy: 0.9281\n",
            "Epoch 175/200\n",
            "32/32 [==============================] - 0s 10ms/step - loss: 0.3852 - accuracy: 0.9242\n",
            "Epoch 176/200\n",
            "32/32 [==============================] - 0s 10ms/step - loss: 0.3833 - accuracy: 0.9232\n",
            "Epoch 177/200\n",
            "32/32 [==============================] - 0s 10ms/step - loss: 0.3756 - accuracy: 0.9251\n",
            "Epoch 178/200\n",
            "32/32 [==============================] - 0s 10ms/step - loss: 0.3719 - accuracy: 0.9222\n",
            "Epoch 179/200\n",
            "32/32 [==============================] - 0s 10ms/step - loss: 0.3678 - accuracy: 0.9242\n",
            "Epoch 180/200\n",
            "32/32 [==============================] - 0s 10ms/step - loss: 0.3688 - accuracy: 0.9212\n",
            "Epoch 181/200\n",
            "32/32 [==============================] - 0s 10ms/step - loss: 0.3613 - accuracy: 0.9281\n",
            "Epoch 182/200\n",
            "32/32 [==============================] - 0s 10ms/step - loss: 0.3834 - accuracy: 0.9162\n",
            "Epoch 183/200\n",
            "32/32 [==============================] - 0s 10ms/step - loss: 0.3840 - accuracy: 0.9212\n",
            "Epoch 184/200\n",
            "32/32 [==============================] - 0s 10ms/step - loss: 0.3728 - accuracy: 0.9222\n",
            "Epoch 185/200\n",
            "32/32 [==============================] - 0s 10ms/step - loss: 0.3556 - accuracy: 0.9271\n",
            "Epoch 186/200\n",
            "32/32 [==============================] - 0s 10ms/step - loss: 0.3489 - accuracy: 0.9291\n",
            "Epoch 187/200\n",
            "32/32 [==============================] - 0s 10ms/step - loss: 0.3483 - accuracy: 0.9271\n",
            "Epoch 188/200\n",
            "32/32 [==============================] - 0s 10ms/step - loss: 0.3480 - accuracy: 0.9261\n",
            "Epoch 189/200\n",
            "32/32 [==============================] - 0s 10ms/step - loss: 0.3418 - accuracy: 0.9281\n",
            "Epoch 190/200\n",
            "32/32 [==============================] - 0s 10ms/step - loss: 0.3375 - accuracy: 0.9281\n",
            "Epoch 191/200\n",
            "32/32 [==============================] - 0s 9ms/step - loss: 0.3341 - accuracy: 0.9301\n",
            "Epoch 192/200\n",
            "32/32 [==============================] - 0s 10ms/step - loss: 0.3326 - accuracy: 0.9291\n",
            "Epoch 193/200\n",
            "32/32 [==============================] - 0s 12ms/step - loss: 0.3309 - accuracy: 0.9291\n",
            "Epoch 194/200\n",
            "32/32 [==============================] - 0s 10ms/step - loss: 0.3284 - accuracy: 0.9291\n",
            "Epoch 195/200\n",
            "32/32 [==============================] - 0s 10ms/step - loss: 0.3259 - accuracy: 0.9311\n",
            "Epoch 196/200\n",
            "32/32 [==============================] - 0s 10ms/step - loss: 0.3220 - accuracy: 0.9331\n",
            "Epoch 197/200\n",
            "32/32 [==============================] - 0s 10ms/step - loss: 0.3199 - accuracy: 0.9301\n",
            "Epoch 198/200\n",
            "32/32 [==============================] - 0s 11ms/step - loss: 0.3157 - accuracy: 0.9321\n",
            "Epoch 199/200\n",
            "32/32 [==============================] - 0s 10ms/step - loss: 0.3145 - accuracy: 0.9331\n",
            "Epoch 200/200\n",
            "32/32 [==============================] - 0s 10ms/step - loss: 0.3250 - accuracy: 0.9271\n"
          ],
          "name": "stdout"
        }
      ]
    },
    {
      "cell_type": "code",
      "metadata": {
        "id": "8jt7gA9D37LA",
        "colab_type": "code",
        "colab": {}
      },
      "source": [
        "import matplotlib.pyplot as plt\n",
        "def plot_graph(history, string):\n",
        "  plt.plot(history.history[string])\n",
        "  plt.xlabel('epochs')\n",
        "  plt.ylabel(string)"
      ],
      "execution_count": 0,
      "outputs": []
    },
    {
      "cell_type": "code",
      "metadata": {
        "id": "U9HOu-_c6CD9",
        "colab_type": "code",
        "colab": {
          "base_uri": "https://localhost:8080/",
          "height": 279
        },
        "outputId": "005ea430-87f1-4413-e5f8-99635a7b58e0"
      },
      "source": [
        "plot_graph(history, 'accuracy')"
      ],
      "execution_count": 114,
      "outputs": [
        {
          "output_type": "display_data",
          "data": {
            "image/png": "[encoded data removed]",
            "text/plain": [
              "<Figure size 432x288 with 1 Axes>"
            ]
          },
          "metadata": {
            "tags": [],
            "needs_background": "light"
          }
        }
      ]
    },
    {
      "cell_type": "code",
      "metadata": {
        "id": "VIEJ_aDA7oL2",
        "colab_type": "code",
        "colab": {
          "base_uri": "https://localhost:8080/",
          "height": 54
        },
        "outputId": "db8e79ac-1fa9-432b-9397-26d8a1b6039f"
      },
      "source": [
        "text = 'I want my love'\n",
        "next_words = 50\n",
        "for _ in range(next_words):\n",
        "  token_list = tokenizer.texts_to_sequences([text])[0]\n",
        "  token_list = pad_sequences([token_list], maxlen = max_len - 1, padding = 'pre')\n",
        "  predicted = np.argmax(model.predict(token_list), axis=-1)\n",
        "  output_word = ''\n",
        "  for word, index in tokenizer.word_index.items():\n",
        "    if index == predicted:\n",
        "      output_word = word\n",
        "      break\n",
        "  text += \" \" + output_word\n",
        "print(text)"
      ],
      "execution_count": 115,
      "outputs": [
        {
          "output_type": "stream",
          "text": [
            "I want my love with your baby you like i too new now bedsheets room time room do heart lover too much lover lover lover at the shots shots feel it it room room room room do shape a sour shots can lover table bag it too her share her home friends hand sour\n"
          ],
          "name": "stdout"
        }
      ]
    },
    {
      "cell_type": "code",
      "metadata": {
        "id": "iyyrM7J6-bmp",
        "colab_type": "code",
        "colab": {}
      },
      "source": [
        ""
      ],
      "execution_count": 0,
      "outputs": []
    }
  ]
}